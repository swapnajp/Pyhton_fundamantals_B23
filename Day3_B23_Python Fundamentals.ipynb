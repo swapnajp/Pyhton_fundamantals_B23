{
 "cells": [
  {
   "cell_type": "code",
   "execution_count": 1,
   "metadata": {},
   "outputs": [
    {
     "name": "stdout",
     "output_type": "stream",
     "text": [
      "swapna priya\n"
     ]
    }
   ],
   "source": [
    "fullname = \"Swapna Priya\"\n",
    "print(fullname.lower())"
   ]
  },
  {
   "cell_type": "code",
   "execution_count": 4,
   "metadata": {},
   "outputs": [
    {
     "name": "stdout",
     "output_type": "stream",
     "text": [
      "SwapnaPriya\n"
     ]
    }
   ],
   "source": [
    "firstname='Swapna'\n",
    "Lastname = 'Priya'\n",
    "Fullname= f\"{firstname}{Lastname}\"\n",
    "print(Fullname)"
   ]
  },
  {
   "cell_type": "code",
   "execution_count": 5,
   "metadata": {
    "scrolled": false
   },
   "outputs": [
    {
     "ename": "NameError",
     "evalue": "name 'lastname' is not defined",
     "output_type": "error",
     "traceback": [
      "\u001b[1;31m---------------------------------------------------------------------------\u001b[0m",
      "\u001b[1;31mNameError\u001b[0m                                 Traceback (most recent call last)",
      "\u001b[1;32m<ipython-input-5-2c7c9ded4be9>\u001b[0m in \u001b[0;36m<module>\u001b[1;34m\u001b[0m\n\u001b[1;32m----> 1\u001b[1;33m \u001b[0mReward\u001b[0m \u001b[1;33m=\u001b[0m \u001b[1;34mf\" Congratulations for the reward,{firstname}{lastname}\"\u001b[0m\u001b[1;33m\u001b[0m\u001b[1;33m\u001b[0m\u001b[0m\n\u001b[0m",
      "\u001b[1;31mNameError\u001b[0m: name 'lastname' is not defined"
     ]
    }
   ],
   "source": [
    "Reward = f\" Congratulations for the reward,{firstname}{lastname}\""
   ]
  },
  {
   "cell_type": "code",
   "execution_count": 8,
   "metadata": {
    "scrolled": true
   },
   "outputs": [
    {
     "name": "stdout",
     "output_type": "stream",
     "text": [
      "Congratulations for the reward,SwapnaPriya\n"
     ]
    }
   ],
   "source": [
    "Reward = f\"Congratulations for the reward,{firstname}{Lastname}\"\n",
    "print(Reward)\n"
   ]
  },
  {
   "cell_type": "code",
   "execution_count": 9,
   "metadata": {},
   "outputs": [
    {
     "name": "stdout",
     "output_type": "stream",
     "text": [
      "Congratulations for the reward,Swapna \t Priya\n"
     ]
    }
   ],
   "source": [
    "Reward = f\"Congratulations for the reward,{firstname} \\t {Lastname}\"\n",
    "print(Reward)\n"
   ]
  },
  {
   "cell_type": "code",
   "execution_count": 12,
   "metadata": {},
   "outputs": [
    {
     "name": "stdout",
     "output_type": "stream",
     "text": [
      "Congratulations for the reward,Swapna \n",
      " Priya\n"
     ]
    }
   ],
   "source": [
    "Reward = f\"Congratulations for the reward,{firstname} \\n {Lastname}\"\n",
    "print(Reward)\n"
   ]
  },
  {
   "cell_type": "code",
   "execution_count": 21,
   "metadata": {},
   "outputs": [
    {
     "name": "stdout",
     "output_type": "stream",
     "text": [
      "FirstName:SreeyanM\n",
      "LastName:Madishetty\n",
      "FullName:Sreeyan Madishetty\n",
      "FirstName:Sreeyan M\n",
      "LastName:M Madishetty\n",
      "FullName:M Sreeyan Madishetty K\n"
     ]
    }
   ],
   "source": [
    "Firstname = \"Sreeyan \"\n",
    "Lastname = \" Madishetty\"\n",
    "Fullname = \" Sreeyan Madishetty \"\n",
    "firstname=Firstname.rstrip()\n",
    "lastname=Lastname.lstrip()\n",
    "fullname=Fullname.strip()\n",
    "print(f\"FirstName:{firstname}M\")\n",
    "print(f\"LastName:{lastname}\")\n",
    "print(f\"FullName:{fullname}\")\n",
    "print(f\"FirstName:{Firstname}M\")\n",
    "print(f\"LastName:M{Lastname}\")\n",
    "print(f\"FullName:M{Fullname}K\")      "
   ]
  },
  {
   "cell_type": "code",
   "execution_count": null,
   "metadata": {},
   "outputs": [],
   "source": []
  }
 ],
 "metadata": {
  "kernelspec": {
   "display_name": "Python 3",
   "language": "python",
   "name": "python3"
  },
  "language_info": {
   "codemirror_mode": {
    "name": "ipython",
    "version": 3
   },
   "file_extension": ".py",
   "mimetype": "text/x-python",
   "name": "python",
   "nbconvert_exporter": "python",
   "pygments_lexer": "ipython3",
   "version": "3.7.6"
  }
 },
 "nbformat": 4,
 "nbformat_minor": 4
}
