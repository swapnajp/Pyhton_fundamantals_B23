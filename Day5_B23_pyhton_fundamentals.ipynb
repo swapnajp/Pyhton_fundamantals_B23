{
 "cells": [
  {
   "cell_type": "code",
   "execution_count": 14,
   "metadata": {},
   "outputs": [
    {
     "name": "stdout",
     "output_type": "stream",
     "text": [
      "['swapna', 'sandhya', ' keethi', 'sreeyan ', 'venkat']\n",
      "Congratulations ! Swapna for the good score\n",
      " Keep it up \n",
      "\n",
      "Congratulations ! Sandhya for the good score\n",
      " Keep it up \n",
      "\n",
      "Congratulations ! Keethi for the good score\n",
      " Keep it up \n",
      "\n",
      "Congratulations ! Sreeyan for the good score\n",
      " Keep it up \n",
      "\n",
      "Congratulations ! Venkat for the good score\n",
      " Keep it up \n",
      "\n"
     ]
    }
   ],
   "source": [
    "class_students = ['swapna','sandhya',' keethi','sreeyan ','venkat']\n",
    "print(class_students)\n",
    "for members in class_students:\n",
    "    print(f\"Congratulations ! {members.title().lstrip().rstrip()} for the good score\")\n",
    "    print(f\" Keep it up \\n\")"
   ]
  },
  {
   "cell_type": "code",
   "execution_count": 16,
   "metadata": {},
   "outputs": [
    {
     "name": "stdout",
     "output_type": "stream",
     "text": [
      "Hello,SWAPNA \t Please submit your practice files\n",
      "Hello,SANDHYA \t Please submit your practice files\n",
      "Hello, KEETHI \t Please submit your practice files\n",
      "Hello,SREEYAN  \t Please submit your practice files\n",
      "Hello,VENKAT \t Please submit your practice files\n"
     ]
    }
   ],
   "source": [
    "for members in class_students:\n",
    "    print(f\"Hello,{members.upper()} \\t Please submit your practice files\")"
   ]
  },
  {
   "cell_type": "code",
   "execution_count": 17,
   "metadata": {},
   "outputs": [
    {
     "name": "stdout",
     "output_type": "stream",
     "text": [
      "[' keethi', 'sandhya', 'sreeyan ', 'swapna', 'venkat']\n"
     ]
    }
   ],
   "source": [
    "print(sorted(class_students))"
   ]
  },
  {
   "cell_type": "code",
   "execution_count": 19,
   "metadata": {},
   "outputs": [
    {
     "name": "stdout",
     "output_type": "stream",
     "text": [
      "['swapna', 'sandhya', ' keethi', 'sreeyan ', 'venkat']\n"
     ]
    }
   ],
   "source": [
    "print(class_students)"
   ]
  },
  {
   "cell_type": "code",
   "execution_count": 24,
   "metadata": {},
   "outputs": [],
   "source": [
    "class_students.sort()"
   ]
  },
  {
   "cell_type": "code",
   "execution_count": 25,
   "metadata": {},
   "outputs": [
    {
     "name": "stdout",
     "output_type": "stream",
     "text": [
      "[' keethi', 'sandhya', 'sreeyan ', 'swapna', 'venkat']\n"
     ]
    }
   ],
   "source": [
    "print(class_students)"
   ]
  },
  {
   "cell_type": "code",
   "execution_count": null,
   "metadata": {},
   "outputs": [],
   "source": []
  }
 ],
 "metadata": {
  "kernelspec": {
   "display_name": "Python 3",
   "language": "python",
   "name": "python3"
  },
  "language_info": {
   "codemirror_mode": {
    "name": "ipython",
    "version": 3
   },
   "file_extension": ".py",
   "mimetype": "text/x-python",
   "name": "python",
   "nbconvert_exporter": "python",
   "pygments_lexer": "ipython3",
   "version": "3.7.6"
  }
 },
 "nbformat": 4,
 "nbformat_minor": 4
}
